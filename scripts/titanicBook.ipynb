{
 "cells": [
  {
   "cell_type": "markdown",
   "metadata": {
    "_cell_guid": "b1076dfc-b9ad-4769-8c92-a6c4dae69d19",
    "_uuid": "8f2839f25d086af736a60e9eeb907d3b93b6e0e5"
   },
   "source": [
    "# Reading the data\n",
    "\n",
    "The very first step on Kaggle is to read the data. For brevity, I choose ``tr`` and ``te`` for the training and test set, respectively:"
   ]
  },
  {
   "cell_type": "code",
   "execution_count": 1,
   "metadata": {
    "ExecuteTime": {
     "end_time": "2024-05-08T10:03:28.040552Z",
     "start_time": "2024-05-08T10:03:27.674818Z"
    },
    "execution": {
     "iopub.execute_input": "2024-05-08T07:11:10.568559Z",
     "iopub.status.busy": "2024-05-08T07:11:10.567993Z",
     "iopub.status.idle": "2024-05-08T07:11:10.589471Z",
     "shell.execute_reply": "2024-05-08T07:11:10.588287Z",
     "shell.execute_reply.started": "2024-05-08T07:11:10.568506Z"
    },
    "jupyter": {
     "is_executing": true
    }
   },
   "outputs": [
    {
     "name": "stdout",
     "output_type": "stream",
     "text": [
      "['PassengerId', 'Survived', 'Pclass', 'Name', 'Sex', 'Age', 'SibSp', 'Parch', 'Ticket', 'Fare', 'Cabin', 'Embarked']\n",
      "['PassengerId', 'Pclass', 'Name', 'Sex', 'Age', 'SibSp', 'Parch', 'Ticket', 'Fare', 'Cabin', 'Embarked']\n"
     ]
    }
   ],
   "source": [
    "import pandas as pd\n",
    "\n",
    "\n",
    "tr = pd.read_csv(\"../input/titanic/train.csv\")\n",
    "te = pd.read_csv(\"../input/titanic/test.csv\")\n",
    "print(tr.columns.to_list())\n",
    "print(te.columns.to_list())"
   ]
  },
  {
   "cell_type": "markdown",
   "metadata": {},
   "source": [
    "The label to be predicted is ``Survived``, which is missing in the test set. As a first step in the project, I try to create a baseline model—a reference to the performance I need to improve. In this case (and in most classification problems), I consider as a baseline the model that predicts the most common value for the label. Here,"
   ]
  },
  {
   "cell_type": "code",
   "execution_count": 2,
   "metadata": {
    "ExecuteTime": {
     "end_time": "2024-05-08T10:03:28.056975Z",
     "start_time": "2024-05-08T10:03:28.042827Z"
    },
    "execution": {
     "iopub.execute_input": "2024-05-08T07:11:10.593540Z",
     "iopub.status.busy": "2024-05-08T07:11:10.591714Z",
     "iopub.status.idle": "2024-05-08T07:11:10.608605Z",
     "shell.execute_reply": "2024-05-08T07:11:10.607498Z",
     "shell.execute_reply.started": "2024-05-08T07:11:10.593497Z"
    }
   },
   "outputs": [
    {
     "data": {
      "text/markdown": [
       "|   index |   Survived |\n",
       "|--------:|-----------:|\n",
       "|       0 |        549 |\n",
       "|       1 |        342 |"
      ],
      "text/plain": [
       "<IPython.core.display.Markdown object>"
      ]
     },
     "metadata": {},
     "output_type": "display_data"
    }
   ],
   "source": [
    "from IPython.display import display\n",
    "from IPython.display import Markdown\n",
    "\n",
    "\n",
    "display(Markdown(tr[\"Survived\"].value_counts().reset_index().to_markdown(index=False)))"
   ]
  },
  {
   "cell_type": "markdown",
   "metadata": {
    "execution": {
     "iopub.execute_input": "2024-05-05T07:56:12.322195Z",
     "iopub.status.busy": "2024-05-05T07:56:12.321643Z",
     "iopub.status.idle": "2024-05-05T07:56:12.332596Z",
     "shell.execute_reply": "2024-05-05T07:56:12.330500Z",
     "shell.execute_reply.started": "2024-05-05T07:56:12.322137Z"
    }
   },
   "source": [
    "Thus, by predicting everyone died, I am right in a fraction 549/(549+342) of the cases, i.e., 62% of the time. As the metric for the problem is the accuracy, I start from a 62% of accuracy."
   ]
  },
  {
   "cell_type": "markdown",
   "metadata": {},
   "source": [
    "# Basic Data Cleaning\n",
    "\n",
    "To be sure to perform cleaning in the same exact way for training and testing datasets, I merge them in a unique dataset, retaining the information of the source: "
   ]
  },
  {
   "cell_type": "code",
   "execution_count": 3,
   "metadata": {
    "ExecuteTime": {
     "end_time": "2024-05-08T10:03:28.066231Z",
     "start_time": "2024-05-08T10:03:28.059485Z"
    },
    "execution": {
     "iopub.execute_input": "2024-05-08T07:11:10.611083Z",
     "iopub.status.busy": "2024-05-08T07:11:10.610279Z",
     "iopub.status.idle": "2024-05-08T07:11:10.623821Z",
     "shell.execute_reply": "2024-05-08T07:11:10.622649Z",
     "shell.execute_reply.started": "2024-05-08T07:11:10.611042Z"
    }
   },
   "outputs": [
    {
     "name": "stdout",
     "output_type": "stream",
     "text": [
      "(1309, 13)\n"
     ]
    }
   ],
   "source": [
    "tr[\"Source\"] = \"Training\"\n",
    "te[\"Source\"] = \"Testing\"\n",
    "\n",
    "df = pd.concat((tr, te))\n",
    "print(df.shape)"
   ]
  },
  {
   "cell_type": "markdown",
   "metadata": {},
   "source": [
    "I refactor the code ingestion in a unique function:"
   ]
  },
  {
   "cell_type": "code",
   "execution_count": 4,
   "metadata": {
    "ExecuteTime": {
     "end_time": "2024-05-08T10:03:28.083335Z",
     "start_time": "2024-05-08T10:03:28.068185Z"
    },
    "execution": {
     "iopub.execute_input": "2024-05-08T07:11:10.628590Z",
     "iopub.status.busy": "2024-05-08T07:11:10.627735Z",
     "iopub.status.idle": "2024-05-08T07:11:10.650284Z",
     "shell.execute_reply": "2024-05-08T07:11:10.649055Z",
     "shell.execute_reply.started": "2024-05-08T07:11:10.628545Z"
    }
   },
   "outputs": [],
   "source": [
    "import pandas as pd\n",
    "\n",
    "\n",
    "def ingest_data() -> pd.DataFrame():\n",
    "    tr = pd.read_csv(\"../input/titanic/train.csv\")\n",
    "    te = pd.read_csv(\"../input/titanic/test.csv\")\n",
    "\n",
    "    tr[\"Source\"] = \"Training\"\n",
    "    te[\"Source\"] = \"Testing\"\n",
    "\n",
    "    return pd.concat((tr, te))\n",
    "\n",
    "\n",
    "df = ingest_data()"
   ]
  },
  {
   "cell_type": "markdown",
   "metadata": {},
   "source": [
    "Then, I start analyzing each of the original columns.\n",
    "\n",
    "## Basic data exploration\n",
    "\n",
    "I write in Markdown for convenience the columns and their types:"
   ]
  },
  {
   "cell_type": "code",
   "execution_count": 5,
   "metadata": {
    "ExecuteTime": {
     "end_time": "2024-05-08T10:03:28.091170Z",
     "start_time": "2024-05-08T10:03:28.084947Z"
    },
    "execution": {
     "iopub.execute_input": "2024-05-08T07:11:10.655157Z",
     "iopub.status.busy": "2024-05-08T07:11:10.654387Z",
     "iopub.status.idle": "2024-05-08T07:11:10.662907Z",
     "shell.execute_reply": "2024-05-08T07:11:10.662012Z",
     "shell.execute_reply.started": "2024-05-08T07:11:10.655114Z"
    },
    "jupyter": {
     "is_executing": true
    }
   },
   "outputs": [
    {
     "name": "stdout",
     "output_type": "stream",
     "text": [
      "* **PassengerId**: int64\n",
      "* **Survived**: float64\n",
      "* **Pclass**: int64\n",
      "* **Name**: object\n",
      "* **Sex**: object\n",
      "* **Age**: float64\n",
      "* **SibSp**: int64\n",
      "* **Parch**: int64\n",
      "* **Ticket**: object\n",
      "* **Fare**: float64\n",
      "* **Cabin**: object\n",
      "* **Embarked**: object\n",
      "* **Source**: object\n"
     ]
    }
   ],
   "source": [
    "types = [str(i) for i in df.dtypes.values]\n",
    "\n",
    "for i in range(df.shape[1]):\n",
    "    print(f\"* **{df.columns[i]}**: {types[i]}\")"
   ]
  },
  {
   "cell_type": "markdown",
   "metadata": {
    "execution": {
     "iopub.execute_input": "2024-05-05T08:29:40.158843Z",
     "iopub.status.busy": "2024-05-05T08:29:40.158470Z",
     "iopub.status.idle": "2024-05-05T08:29:40.167607Z",
     "shell.execute_reply": "2024-05-05T08:29:40.166278Z",
     "shell.execute_reply.started": "2024-05-05T08:29:40.158815Z"
    }
   },
   "source": [
    "which is rendered to:\n",
    "\n",
    "* **PassengerId**: int64\n",
    "* **Survived**: float64\n",
    "* **Pclass**: int64\n",
    "* **Name**: object\n",
    "* **Sex**: object\n",
    "* **Age**: float64\n",
    "* **SibSp**: int64\n",
    "* **Parch**: int64\n",
    "* **Ticket**: object\n",
    "* **Fare**: float64\n",
    "* **Cabin**: object\n",
    "* **Embarked**: object\n",
    "* **Source**: object\n",
    "\n",
    "I analyze then the columns one by one.\n",
    "\n",
    "## PassengerId\n",
    "\n",
    "This is the identification number of the passenger; it houls not retain any relevant information. However, in some competition there could be some data leak, thus i could include it and later exclude it from considerarion while doing feature selection.\n",
    "The type is integer, so no need for firther processing. \n",
    "\n",
    "There are no missing points:\n",
    "\n",
    "\n",
    "\n"
   ]
  },
  {
   "cell_type": "code",
   "execution_count": 6,
   "metadata": {
    "ExecuteTime": {
     "end_time": "2024-05-08T10:03:28.098073Z",
     "start_time": "2024-05-08T10:03:28.093738Z"
    },
    "execution": {
     "iopub.execute_input": "2024-05-08T07:11:10.665343Z",
     "iopub.status.busy": "2024-05-08T07:11:10.664634Z",
     "iopub.status.idle": "2024-05-08T07:11:10.676507Z",
     "shell.execute_reply": "2024-05-08T07:11:10.675303Z",
     "shell.execute_reply.started": "2024-05-08T07:11:10.665300Z"
    },
    "jupyter": {
     "is_executing": true
    }
   },
   "outputs": [
    {
     "name": "stdout",
     "output_type": "stream",
     "text": [
      "Percentage of null for PassengerId: 0.0\n"
     ]
    }
   ],
   "source": [
    "import numpy as np\n",
    "\n",
    "i = \"PassengerId\"\n",
    "print(f\"Percentage of null for {i}:\", np.mean(df[i].isnull()))"
   ]
  },
  {
   "cell_type": "markdown",
   "metadata": {},
   "source": [
    "## Pclass\n",
    "\n",
    "This column represent the ticket class. There are three possible values, and no missing values:"
   ]
  },
  {
   "cell_type": "code",
   "execution_count": 7,
   "metadata": {
    "ExecuteTime": {
     "end_time": "2024-05-08T10:03:28.105372Z",
     "start_time": "2024-05-08T10:03:28.100423Z"
    },
    "execution": {
     "iopub.execute_input": "2024-05-08T07:11:10.679685Z",
     "iopub.status.busy": "2024-05-08T07:11:10.678455Z",
     "iopub.status.idle": "2024-05-08T07:11:10.689178Z",
     "shell.execute_reply": "2024-05-08T07:11:10.687979Z",
     "shell.execute_reply.started": "2024-05-08T07:11:10.679639Z"
    }
   },
   "outputs": [
    {
     "name": "stdout",
     "output_type": "stream",
     "text": [
      "Percentage of null for Pclass: 0.0\n",
      "[3 1 2]\n"
     ]
    }
   ],
   "source": [
    "i = \"Pclass\"\n",
    "print(f\"Percentage of null for {i}:\", np.mean(df[i].isnull()))\n",
    "print(df[i].unique())"
   ]
  },
  {
   "cell_type": "markdown",
   "metadata": {},
   "source": [
    "## Name\n",
    "\n",
    "This represent the name of the passenger. Can not be used the way it is:"
   ]
  },
  {
   "cell_type": "code",
   "execution_count": 8,
   "metadata": {
    "ExecuteTime": {
     "end_time": "2024-05-08T10:03:28.112903Z",
     "start_time": "2024-05-08T10:03:28.108011Z"
    },
    "execution": {
     "iopub.execute_input": "2024-05-08T07:11:10.692028Z",
     "iopub.status.busy": "2024-05-08T07:11:10.690842Z",
     "iopub.status.idle": "2024-05-08T07:11:10.704220Z",
     "shell.execute_reply": "2024-05-08T07:11:10.702974Z",
     "shell.execute_reply.started": "2024-05-08T07:11:10.691980Z"
    }
   },
   "outputs": [
    {
     "name": "stdout",
     "output_type": "stream",
     "text": [
      "Percentage of null for Name: 0.0\n",
      "['Braund, Mr. Owen Harris'\n",
      " 'Cumings, Mrs. John Bradley (Florence Briggs Thayer)'\n",
      " 'Heikkinen, Miss. Laina' 'Futrelle, Mrs. Jacques Heath (Lily May Peel)'\n",
      " 'Allen, Mr. William Henry']\n"
     ]
    }
   ],
   "source": [
    "i = \"Name\"\n",
    "print(f\"Percentage of null for {i}:\", np.mean(df[i].isnull()))\n",
    "print(df[i].unique()[:5])"
   ]
  },
  {
   "cell_type": "markdown",
   "metadata": {},
   "source": [
    "## Sex\n",
    "\n",
    "This represent the name of the passenger. Can not be used the way it is (it is an object):"
   ]
  },
  {
   "cell_type": "code",
   "execution_count": 9,
   "metadata": {
    "ExecuteTime": {
     "end_time": "2024-05-08T10:03:28.123884Z",
     "start_time": "2024-05-08T10:03:28.117806Z"
    },
    "execution": {
     "iopub.execute_input": "2024-05-08T07:11:10.706832Z",
     "iopub.status.busy": "2024-05-08T07:11:10.705847Z",
     "iopub.status.idle": "2024-05-08T07:11:10.716615Z",
     "shell.execute_reply": "2024-05-08T07:11:10.715143Z",
     "shell.execute_reply.started": "2024-05-08T07:11:10.706788Z"
    }
   },
   "outputs": [
    {
     "name": "stdout",
     "output_type": "stream",
     "text": [
      "Percentage of null for Sex: 0.0\n",
      "['male' 'female']\n"
     ]
    }
   ],
   "source": [
    "i = \"Sex\"\n",
    "print(f\"Percentage of null for {i}:\", np.mean(df[i].isnull()))\n",
    "print(df[i].unique()[:5])"
   ]
  },
  {
   "cell_type": "markdown",
   "metadata": {
    "execution": {
     "iopub.execute_input": "2024-05-05T19:49:34.021649Z",
     "iopub.status.busy": "2024-05-05T19:49:34.021282Z",
     "iopub.status.idle": "2024-05-05T19:49:34.029140Z",
     "shell.execute_reply": "2024-05-05T19:49:34.027487Z",
     "shell.execute_reply.started": "2024-05-05T19:49:34.021621Z"
    }
   },
   "source": [
    "Can be simply encoded:"
   ]
  },
  {
   "cell_type": "code",
   "execution_count": 10,
   "metadata": {
    "ExecuteTime": {
     "end_time": "2024-05-08T10:03:28.131463Z",
     "start_time": "2024-05-08T10:03:28.126223Z"
    },
    "execution": {
     "iopub.execute_input": "2024-05-08T07:11:10.723092Z",
     "iopub.status.busy": "2024-05-08T07:11:10.722608Z",
     "iopub.status.idle": "2024-05-08T07:11:10.732842Z",
     "shell.execute_reply": "2024-05-08T07:11:10.731529Z",
     "shell.execute_reply.started": "2024-05-08T07:11:10.723058Z"
    }
   },
   "outputs": [
    {
     "name": "stdout",
     "output_type": "stream",
     "text": [
      "[0 1]\n"
     ]
    }
   ],
   "source": [
    "df[\"Sex\"] = df[\"Sex\"].map({\"male\": 0, \"female\": 1})\n",
    "print(df[\"Sex\"].unique())"
   ]
  },
  {
   "cell_type": "markdown",
   "metadata": {},
   "source": [
    "## Age\n",
    "\n",
    "The age of the passenger. Quoting [the data notes](https://www.kaggle.com/competitions/titanic/data),\n",
    "\n",
    "> Age is fractional if less than 1. If the age is estimated, is it in the form of xx.5"
   ]
  },
  {
   "cell_type": "code",
   "execution_count": 11,
   "metadata": {
    "ExecuteTime": {
     "end_time": "2024-05-08T10:03:28.139419Z",
     "start_time": "2024-05-08T10:03:28.133633Z"
    },
    "execution": {
     "iopub.execute_input": "2024-05-08T07:11:10.735466Z",
     "iopub.status.busy": "2024-05-08T07:11:10.734663Z",
     "iopub.status.idle": "2024-05-08T07:11:10.750895Z",
     "shell.execute_reply": "2024-05-08T07:11:10.749693Z",
     "shell.execute_reply.started": "2024-05-08T07:11:10.735424Z"
    }
   },
   "outputs": [
    {
     "name": "stdout",
     "output_type": "stream",
     "text": [
      "Percentage of null for Age: 0.20091673032849502\n",
      "[22. 38. 26. 35. nan]\n"
     ]
    }
   ],
   "source": [
    "i = \"Age\"\n",
    "print(f\"Percentage of null for {i}:\", np.mean(df[i].isnull()))\n",
    "print(df[i].unique()[:5])"
   ]
  },
  {
   "cell_type": "markdown",
   "metadata": {},
   "source": [
    "While there are many possible strategies for imputing a column with missing values, here I choose the easiest approach, imputing with the median:"
   ]
  },
  {
   "cell_type": "code",
   "execution_count": 12,
   "metadata": {
    "ExecuteTime": {
     "end_time": "2024-05-08T10:03:28.148967Z",
     "start_time": "2024-05-08T10:03:28.141857Z"
    },
    "execution": {
     "iopub.execute_input": "2024-05-08T07:11:10.753746Z",
     "iopub.status.busy": "2024-05-08T07:11:10.752929Z",
     "iopub.status.idle": "2024-05-08T07:11:10.766367Z",
     "shell.execute_reply": "2024-05-08T07:11:10.765158Z",
     "shell.execute_reply.started": "2024-05-08T07:11:10.753702Z"
    }
   },
   "outputs": [
    {
     "name": "stdout",
     "output_type": "stream",
     "text": [
      "28.0\n"
     ]
    }
   ],
   "source": [
    "print(np.median(df[\"Age\"].dropna()))\n",
    "df[\"Age\"] = df[\"Age\"].fillna(np.median(df[\"Age\"].dropna()))"
   ]
  },
  {
   "cell_type": "markdown",
   "metadata": {},
   "source": [
    "## SibSp\n",
    "\n",
    "This is the number of siblings/spouses aboard the Titanic."
   ]
  },
  {
   "cell_type": "code",
   "execution_count": 13,
   "metadata": {
    "ExecuteTime": {
     "end_time": "2024-05-08T10:03:28.155892Z",
     "start_time": "2024-05-08T10:03:28.151005Z"
    },
    "execution": {
     "iopub.execute_input": "2024-05-08T07:11:10.769140Z",
     "iopub.status.busy": "2024-05-08T07:11:10.768094Z",
     "iopub.status.idle": "2024-05-08T07:11:10.779828Z",
     "shell.execute_reply": "2024-05-08T07:11:10.778539Z",
     "shell.execute_reply.started": "2024-05-08T07:11:10.769098Z"
    },
    "jupyter": {
     "is_executing": true
    }
   },
   "outputs": [
    {
     "name": "stdout",
     "output_type": "stream",
     "text": [
      "Percentage of null for SibSp: 0.0\n",
      "[1 0 3 4 2]\n"
     ]
    }
   ],
   "source": [
    "i = \"SibSp\"\n",
    "print(f\"Percentage of null for {i}:\", np.mean(df[i].isnull()))\n",
    "print(df[i].unique()[:5])"
   ]
  },
  {
   "cell_type": "markdown",
   "metadata": {},
   "source": [
    "## Parch\n",
    "\n",
    "The number of parents/children aboard the Titanic."
   ]
  },
  {
   "cell_type": "code",
   "execution_count": 14,
   "metadata": {
    "ExecuteTime": {
     "end_time": "2024-05-08T10:03:28.163912Z",
     "start_time": "2024-05-08T10:03:28.158776Z"
    },
    "execution": {
     "iopub.execute_input": "2024-05-08T07:11:10.782686Z",
     "iopub.status.busy": "2024-05-08T07:11:10.781926Z",
     "iopub.status.idle": "2024-05-08T07:11:10.793254Z",
     "shell.execute_reply": "2024-05-08T07:11:10.792098Z",
     "shell.execute_reply.started": "2024-05-08T07:11:10.782642Z"
    }
   },
   "outputs": [
    {
     "name": "stdout",
     "output_type": "stream",
     "text": [
      "Percentage of null for Parch: 0.0\n",
      "[0 1 2 5 3]\n"
     ]
    }
   ],
   "source": [
    "i = \"Parch\"\n",
    "print(f\"Percentage of null for {i}:\", np.mean(df[i].isnull()))\n",
    "print(df[i].unique()[:5])"
   ]
  },
  {
   "cell_type": "markdown",
   "metadata": {},
   "source": [
    "## Ticket\n",
    "\n",
    "The ticket number; can not be used in the current form."
   ]
  },
  {
   "cell_type": "code",
   "execution_count": 15,
   "metadata": {
    "ExecuteTime": {
     "end_time": "2024-05-08T10:03:28.172388Z",
     "start_time": "2024-05-08T10:03:28.166867Z"
    },
    "execution": {
     "iopub.execute_input": "2024-05-08T07:11:10.795983Z",
     "iopub.status.busy": "2024-05-08T07:11:10.795047Z",
     "iopub.status.idle": "2024-05-08T07:11:10.806177Z",
     "shell.execute_reply": "2024-05-08T07:11:10.805046Z",
     "shell.execute_reply.started": "2024-05-08T07:11:10.795940Z"
    }
   },
   "outputs": [
    {
     "name": "stdout",
     "output_type": "stream",
     "text": [
      "Percentage of null for Ticket: 0.0\n",
      "['A/5 21171' 'PC 17599' 'STON/O2. 3101282' '113803' '373450']\n"
     ]
    }
   ],
   "source": [
    "i = \"Ticket\"\n",
    "print(f\"Percentage of null for {i}:\", np.mean(df[i].isnull()))\n",
    "print(df[i].unique()[:5])"
   ]
  },
  {
   "cell_type": "markdown",
   "metadata": {},
   "source": [
    "## Fare\n",
    "\n",
    "The passenger fame; still a socio-economic indicator."
   ]
  },
  {
   "cell_type": "code",
   "execution_count": 16,
   "metadata": {
    "ExecuteTime": {
     "end_time": "2024-05-08T10:03:28.180108Z",
     "start_time": "2024-05-08T10:03:28.174913Z"
    },
    "execution": {
     "iopub.execute_input": "2024-05-08T07:11:10.808617Z",
     "iopub.status.busy": "2024-05-08T07:11:10.807852Z",
     "iopub.status.idle": "2024-05-08T07:11:10.819494Z",
     "shell.execute_reply": "2024-05-08T07:11:10.818267Z",
     "shell.execute_reply.started": "2024-05-08T07:11:10.808562Z"
    }
   },
   "outputs": [
    {
     "name": "stdout",
     "output_type": "stream",
     "text": [
      "Percentage of null for Fare: 0.0007639419404125286\n",
      "[ 7.25   71.2833  7.925  53.1     8.05  ]\n"
     ]
    }
   ],
   "source": [
    "i = \"Fare\"\n",
    "print(f\"Percentage of null for {i}:\", np.mean(df[i].isnull()))\n",
    "print(df[i].unique()[:5])"
   ]
  },
  {
   "cell_type": "markdown",
   "metadata": {},
   "source": [
    "Here again, I impute with the median fare for simplicity:"
   ]
  },
  {
   "cell_type": "code",
   "execution_count": 17,
   "metadata": {
    "ExecuteTime": {
     "end_time": "2024-05-08T10:03:28.214718Z",
     "start_time": "2024-05-08T10:03:28.183189Z"
    },
    "execution": {
     "iopub.execute_input": "2024-05-08T07:11:10.821889Z",
     "iopub.status.busy": "2024-05-08T07:11:10.821192Z",
     "iopub.status.idle": "2024-05-08T07:11:10.831566Z",
     "shell.execute_reply": "2024-05-08T07:11:10.830105Z",
     "shell.execute_reply.started": "2024-05-08T07:11:10.821855Z"
    }
   },
   "outputs": [
    {
     "name": "stdout",
     "output_type": "stream",
     "text": [
      "14.4542\n"
     ]
    }
   ],
   "source": [
    "print(np.median(df[\"Fare\"].dropna()))\n",
    "df[\"Fare\"] = df[\"Fare\"].fillna(np.median(df[\"Fare\"].dropna()))"
   ]
  },
  {
   "cell_type": "markdown",
   "metadata": {},
   "source": [
    "## Cabin\n",
    "\n",
    "The cabin number; probably irrelevant:"
   ]
  },
  {
   "cell_type": "code",
   "execution_count": 18,
   "metadata": {
    "ExecuteTime": {
     "end_time": "2024-05-08T10:03:28.223133Z",
     "start_time": "2024-05-08T10:03:28.217484Z"
    },
    "execution": {
     "iopub.execute_input": "2024-05-08T07:11:10.834642Z",
     "iopub.status.busy": "2024-05-08T07:11:10.833429Z",
     "iopub.status.idle": "2024-05-08T07:11:10.843574Z",
     "shell.execute_reply": "2024-05-08T07:11:10.842306Z",
     "shell.execute_reply.started": "2024-05-08T07:11:10.834597Z"
    }
   },
   "outputs": [
    {
     "name": "stdout",
     "output_type": "stream",
     "text": [
      "Percentage of null for Cabin: 0.774637127578304\n",
      "[nan 'C85' 'C123' 'E46' 'G6']\n"
     ]
    }
   ],
   "source": [
    "i = \"Cabin\"\n",
    "print(f\"Percentage of null for {i}:\", np.mean(df[i].isnull()))\n",
    "print(df[i].unique()[:5])"
   ]
  },
  {
   "cell_type": "markdown",
   "metadata": {},
   "source": [
    "With some many missing points, it is probably better skipping. \n",
    "\n",
    "## Embarked\n",
    "\n",
    "Port of embarcation."
   ]
  },
  {
   "cell_type": "code",
   "execution_count": 19,
   "metadata": {
    "ExecuteTime": {
     "end_time": "2024-05-08T10:03:28.229718Z",
     "start_time": "2024-05-08T10:03:28.225461Z"
    },
    "execution": {
     "iopub.execute_input": "2024-05-08T07:11:10.845915Z",
     "iopub.status.busy": "2024-05-08T07:11:10.844984Z",
     "iopub.status.idle": "2024-05-08T07:11:10.855742Z",
     "shell.execute_reply": "2024-05-08T07:11:10.854128Z",
     "shell.execute_reply.started": "2024-05-08T07:11:10.845864Z"
    },
    "jupyter": {
     "is_executing": true
    }
   },
   "outputs": [
    {
     "name": "stdout",
     "output_type": "stream",
     "text": [
      "Percentage of null for Embarked: 0.0015278838808250573\n",
      "['S' 'C' 'Q' nan]\n"
     ]
    }
   ],
   "source": [
    "i = \"Embarked\"\n",
    "print(f\"Percentage of null for {i}:\", np.mean(df[i].isnull()))\n",
    "print(df[i].unique()[:5])"
   ]
  },
  {
   "cell_type": "markdown",
   "metadata": {},
   "source": [
    "Has the variable is categorical, I impute it with the most common embarked port:"
   ]
  },
  {
   "cell_type": "code",
   "execution_count": 20,
   "metadata": {
    "ExecuteTime": {
     "end_time": "2024-05-08T10:03:28.243270Z",
     "start_time": "2024-05-08T10:03:28.232128Z"
    },
    "execution": {
     "iopub.execute_input": "2024-05-08T07:11:10.858331Z",
     "iopub.status.busy": "2024-05-08T07:11:10.857344Z",
     "iopub.status.idle": "2024-05-08T07:11:10.872136Z",
     "shell.execute_reply": "2024-05-08T07:11:10.870700Z",
     "shell.execute_reply.started": "2024-05-08T07:11:10.858288Z"
    }
   },
   "outputs": [
    {
     "data": {
      "text/html": [
       "<div>\n",
       "<style scoped>\n",
       "    .dataframe tbody tr th:only-of-type {\n",
       "        vertical-align: middle;\n",
       "    }\n",
       "\n",
       "    .dataframe tbody tr th {\n",
       "        vertical-align: top;\n",
       "    }\n",
       "\n",
       "    .dataframe thead th {\n",
       "        text-align: right;\n",
       "    }\n",
       "</style>\n",
       "<table border=\"1\" class=\"dataframe\">\n",
       "  <thead>\n",
       "    <tr style=\"text-align: right;\">\n",
       "      <th></th>\n",
       "      <th>index</th>\n",
       "      <th>Embarked</th>\n",
       "    </tr>\n",
       "  </thead>\n",
       "  <tbody>\n",
       "    <tr>\n",
       "      <th>0</th>\n",
       "      <td>S</td>\n",
       "      <td>914</td>\n",
       "    </tr>\n",
       "    <tr>\n",
       "      <th>1</th>\n",
       "      <td>C</td>\n",
       "      <td>270</td>\n",
       "    </tr>\n",
       "    <tr>\n",
       "      <th>2</th>\n",
       "      <td>Q</td>\n",
       "      <td>123</td>\n",
       "    </tr>\n",
       "  </tbody>\n",
       "</table>\n",
       "</div>"
      ],
      "text/plain": [
       "  index  Embarked\n",
       "0     S       914\n",
       "1     C       270\n",
       "2     Q       123"
      ]
     },
     "execution_count": 20,
     "metadata": {},
     "output_type": "execute_result"
    }
   ],
   "source": [
    "df[i].value_counts().reset_index()"
   ]
  },
  {
   "cell_type": "code",
   "execution_count": 21,
   "metadata": {
    "ExecuteTime": {
     "end_time": "2024-05-08T10:03:28.248282Z",
     "start_time": "2024-05-08T10:03:28.244759Z"
    },
    "execution": {
     "iopub.execute_input": "2024-05-08T07:11:10.874617Z",
     "iopub.status.busy": "2024-05-08T07:11:10.873835Z",
     "iopub.status.idle": "2024-05-08T07:11:10.881516Z",
     "shell.execute_reply": "2024-05-08T07:11:10.880304Z",
     "shell.execute_reply.started": "2024-05-08T07:11:10.874578Z"
    }
   },
   "outputs": [],
   "source": [
    "df[\"Embarked\"] = df[\"Embarked\"].fillna(\"S\")"
   ]
  },
  {
   "cell_type": "markdown",
   "metadata": {},
   "source": [
    "## Refactoring to a simple function"
   ]
  },
  {
   "cell_type": "code",
   "execution_count": 22,
   "metadata": {
    "ExecuteTime": {
     "end_time": "2024-05-08T10:03:28.273498Z",
     "start_time": "2024-05-08T10:03:28.250325Z"
    },
    "execution": {
     "iopub.execute_input": "2024-05-08T07:11:10.883278Z",
     "iopub.status.busy": "2024-05-08T07:11:10.882889Z",
     "iopub.status.idle": "2024-05-08T07:11:10.918299Z",
     "shell.execute_reply": "2024-05-08T07:11:10.917411Z",
     "shell.execute_reply.started": "2024-05-08T07:11:10.883238Z"
    }
   },
   "outputs": [],
   "source": [
    "import numpy as np\n",
    "import pandas as pd\n",
    "\n",
    "\n",
    "def ingest_data() -> pd.DataFrame():\n",
    "    tr = pd.read_csv(\"../input/titanic/train.csv\")\n",
    "    te = pd.read_csv(\"../input/titanic/test.csv\")\n",
    "\n",
    "    tr[\"Source\"] = \"Training\"\n",
    "    te[\"Source\"] = \"Testing\"\n",
    "\n",
    "    return pd.concat((tr, te))\n",
    "\n",
    "\n",
    "def feature_engineering0(input_df: pd.DataFrame) -> (pd.DataFrame, pd.DataFrame):\n",
    "    to_be_dropped = [\"Name\", \"Ticket\", \"Cabin\", \"Source\"]\n",
    "    source = input_df[\"Source\"]\n",
    "    df = input_df.drop(to_be_dropped, axis=1).copy()\n",
    "\n",
    "    df[\"Sex\"] = df[\"Sex\"].map({\"male\": 0, \"female\": 1})\n",
    "    df[\"Age\"] = df[\"Age\"].fillna(np.median(df[\"Age\"].dropna()))\n",
    "    df[\"Fare\"] = df[\"Fare\"].fillna(np.median(df[\"Fare\"].dropna()))\n",
    "    df[\"Embarked\"] = df[\"Embarked\"].fillna(\"S\")\n",
    "\n",
    "    df = pd.get_dummies(df, dtype=np.int64)\n",
    "    return (df[source == \"Training\"], df[source == \"Testing\"])\n",
    "\n",
    "\n",
    "df = ingest_data()\n",
    "train, test = feature_engineering0(df)"
   ]
  },
  {
   "cell_type": "markdown",
   "metadata": {},
   "source": [
    "# Train a model and measure perfomance"
   ]
  },
  {
   "cell_type": "code",
   "execution_count": 23,
   "metadata": {
    "ExecuteTime": {
     "end_time": "2024-05-08T10:03:30.364981Z",
     "start_time": "2024-05-08T10:03:28.275151Z"
    },
    "execution": {
     "iopub.execute_input": "2024-05-08T07:11:10.943599Z",
     "iopub.status.busy": "2024-05-08T07:11:10.943077Z",
     "iopub.status.idle": "2024-05-08T07:11:14.082431Z",
     "shell.execute_reply": "2024-05-08T07:11:14.081238Z",
     "shell.execute_reply.started": "2024-05-08T07:11:10.943558Z"
    }
   },
   "outputs": [
    {
     "name": "stdout",
     "output_type": "stream",
     "text": [
      "0.8249563046192259 +/- 0.04366214002255289\n"
     ]
    }
   ],
   "source": [
    "from sklearn.ensemble import RandomForestClassifier\n",
    "from sklearn.model_selection import cross_val_score\n",
    "\n",
    "model = RandomForestClassifier(random_state=2024)\n",
    "Y = train.pop(\"Survived\")\n",
    "scores = cross_val_score(model, train, Y, cv=10)\n",
    "print(np.mean(scores), \"+/-\", np.std(scores))"
   ]
  },
  {
   "cell_type": "markdown",
   "metadata": {},
   "source": [
    "# Refactoring everything in a single script"
   ]
  },
  {
   "cell_type": "code",
   "execution_count": 24,
   "metadata": {
    "ExecuteTime": {
     "end_time": "2024-05-08T10:03:32.837645Z",
     "start_time": "2024-05-08T10:03:30.367172Z"
    },
    "execution": {
     "iopub.execute_input": "2024-05-08T07:40:03.779879Z",
     "iopub.status.busy": "2024-05-08T07:40:03.779446Z",
     "iopub.status.idle": "2024-05-08T07:40:08.363740Z",
     "shell.execute_reply": "2024-05-08T07:40:08.362505Z",
     "shell.execute_reply.started": "2024-05-08T07:40:03.779846Z"
    },
    "jupyter": {
     "is_executing": true
    }
   },
   "outputs": [
    {
     "name": "stdout",
     "output_type": "stream",
     "text": [
      "0.8249563046192259 +/- 0.04366214002255289 \n",
      "\n"
     ]
    },
    {
     "data": {
      "image/png": "[encoded data removed]",
      "text/plain": [
       "<Figure size 1600x900 with 1 Axes>"
      ]
     },
     "metadata": {},
     "output_type": "display_data"
    }
   ],
   "source": [
    "import numpy as np\n",
    "import pandas as pd\n",
    "import matplotlib.pyplot as plt\n",
    "from sklearn.ensemble import RandomForestClassifier\n",
    "from sklearn.model_selection import cross_val_score\n",
    "\n",
    "\n",
    "def ingest_data() -> pd.DataFrame():\n",
    "    tr = pd.read_csv(\"../input/titanic/train.csv\")\n",
    "    te = pd.read_csv(\"../input/titanic/test.csv\")\n",
    "\n",
    "    tr[\"Source\"] = \"Training\"\n",
    "    te[\"Source\"] = \"Testing\"\n",
    "\n",
    "    return pd.concat((tr, te))\n",
    "\n",
    "\n",
    "def feature_engineering0(input_df: pd.DataFrame) -> (pd.DataFrame, pd.DataFrame):\n",
    "    to_be_dropped = [\"Name\", \"Ticket\", \"Cabin\", \"Source\"]\n",
    "    source = input_df[\"Source\"]\n",
    "    df = input_df.drop(to_be_dropped, axis=1).copy()\n",
    "\n",
    "    df[\"Sex\"] = df[\"Sex\"].map({\"male\": 0, \"female\": 1})\n",
    "    df[\"Age\"] = df[\"Age\"].fillna(np.median(df[\"Age\"].dropna()))\n",
    "    df[\"Fare\"] = df[\"Fare\"].fillna(np.median(df[\"Fare\"].dropna()))\n",
    "    df[\"Embarked\"] = df[\"Embarked\"].fillna(\"S\")\n",
    "\n",
    "    df = pd.get_dummies(df, dtype=np.int64)\n",
    "    return (df[source == \"Training\"], df[source == \"Testing\"])\n",
    "\n",
    "\n",
    "def estimate_performance(train: pd.DataFrame) -> list:\n",
    "    model = RandomForestClassifier(random_state=2024)\n",
    "    Y = train.pop(\"Survived\")\n",
    "    scores = cross_val_score(model, train, Y, cv=10)\n",
    "    print(np.mean(scores), \"+/-\", np.std(scores), \"\\n\")\n",
    "    return scores\n",
    "\n",
    "\n",
    "version = 0.1\n",
    "baseline = 549 / (549 + 342)\n",
    "\n",
    "df = ingest_data()\n",
    "train, test = feature_engineering0(df)\n",
    "scores = estimate_performance(train)\n",
    "\n",
    "performance = pd.DataFrame({\"Version\": [str(version)] * 10, \"Performance\": scores})\n",
    "performance.to_csv(f\"performance_{version}.csv\", index=False)\n",
    "\n",
    "p = {\n",
    "    f\"Ver {i}\": performance.loc[performance[\"Version\"] == i, \"Performance\"].to_list()\n",
    "    for i in performance[\"Version\"].unique()\n",
    "}\n",
    "\n",
    "plt.rcParams[\"font.size\"] = 16\n",
    "plt.figure(figsize=(16, 9))\n",
    "plt.title(\"Accuracy boxplot for different version model\")\n",
    "plt.axvline(baseline, color=\"orange\", lw=4, label=f\"Baseline: {round(baseline, 3)}\")\n",
    "bp = plt.boxplot(\n",
    "    performance[\"Performance\"],\n",
    "    vert=False,\n",
    "    labels=p.keys(),\n",
    "    patch_artist=True,\n",
    "    boxprops=dict(facecolor=\"royalblue\", color=\"black\", linewidth=3),\n",
    "    whiskerprops=dict(color=\"black\", linewidth=3),\n",
    "    capprops=dict(color=\"black\", linewidth=3),\n",
    "    medianprops=dict(color=\"black\", linewidth=3),\n",
    ")\n",
    "\n",
    "plt.xlabel(\"Accuracy\")\n",
    "plt.grid()\n",
    "plt.legend()\n",
    "plt.savefig(f\"Performance_{version}.png\", dpi=300)"
   ]
  },
  {
   "cell_type": "code",
   "execution_count": null,
   "metadata": {},
   "outputs": [],
   "source": []
  }
 ],
 "metadata": {
  "kaggle": {
   "accelerator": "none",
   "dataSources": [
    {
     "databundleVersionId": 26502,
     "sourceId": 3136,
     "sourceType": "competition"
    }
   ],
   "dockerImageVersionId": 30698,
   "isGpuEnabled": false,
   "isInternetEnabled": true,
   "language": "python",
   "sourceType": "notebook"
  },
  "kernelspec": {
   "display_name": "Python 3 (ipykernel)",
   "language": "python",
   "name": "python3"
  },
  "language_info": {
   "codemirror_mode": {
    "name": "ipython",
    "version": 3
   },
   "file_extension": ".py",
   "mimetype": "text/x-python",
   "name": "python",
   "nbconvert_exporter": "python",
   "pygments_lexer": "ipython3",
   "version": "3.11.9"
  },
  "toc": {
   "base_numbering": 1,
   "nav_menu": {},
   "number_sections": true,
   "sideBar": true,
   "skip_h1_title": false,
   "title_cell": "Table of Contents",
   "title_sidebar": "Contents",
   "toc_cell": false,
   "toc_position": {},
   "toc_section_display": true,
   "toc_window_display": false
  }
 },
 "nbformat": 4,
 "nbformat_minor": 4
}
